{
 "cells": [
  {
   "cell_type": "code",
   "execution_count": 1,
   "id": "104bf18a",
   "metadata": {},
   "outputs": [],
   "source": [
    "import gensim\n",
    "from gensim.models import Word2Vec\n",
    "\n",
    "f1 = open('Harry_Potter_e_A_Pedra_Filosofal.txt', encoding='UTF-8')\n",
    "f2 = open('Harry_Potter_Camara_Secreta-br.txt', encoding='UTF-8')\n",
    "\n",
    "sents = []\n",
    "\n",
    "for line in f1:\n",
    "    tokens = list(gensim.utils.tokenize(line, lower=True))\n",
    "    sents.append(tokens)\n",
    "\n",
    "for line in f2:\n",
    "    tokens = list(gensim.utils.tokenize(line, lower=True))\n",
    "    sents.append(tokens)\n",
    "\n",
    "model = Word2Vec(sents, vector_size=100, epochs=20)"
   ]
  },
  {
   "cell_type": "code",
   "execution_count": 2,
   "id": "5fcec2f1",
   "metadata": {},
   "outputs": [
    {
     "data": {
      "text/plain": [
       "[('neville', 0.6036941409111023),\n",
       " ('mione', 0.6022164225578308),\n",
       " ('draco', 0.5958917737007141),\n",
       " ('colin', 0.5761808753013611),\n",
       " ('ele', 0.5587642192840576),\n",
       " ('quirrell', 0.5433545708656311),\n",
       " ('hermione', 0.5266537070274353),\n",
       " ('rony', 0.5179792046546936),\n",
       " ('furioso', 0.5165421366691589),\n",
       " ('lentamente', 0.5137933492660522)]"
      ]
     },
     "execution_count": 2,
     "metadata": {},
     "output_type": "execute_result"
    }
   ],
   "source": [
    "model.wv['harry']\n",
    "model.wv.most_similar('harry')\n"
   ]
  },
  {
   "cell_type": "code",
   "execution_count": 28,
   "id": "adbf107f",
   "metadata": {},
   "outputs": [
    {
     "name": "stdout",
     "output_type": "stream",
     "text": [
      "['de', 'que', 'a', 'o', 'e', 'harry', 'se', 'não', 'para', 'um', 'uma', 'os', 'com', 'do', 'em', 'ele', 'da', 'disse', 'é', 'no', 'rony', 'na', 'você', 'mas', 'por', 'as', 'mais', 'estava', 'como', 'quando', 'eu', 'era', 'à', 'ao', 'muito', 'foi', 'hagrid', 'está', 'dos', 'coisa', 'me', 'hermione', 'sua', 'seu', 'eles', 'ela', 'bem', 'das', 'cabeça', 'olhos', 'isso', 'ter', 'até', 'tinha', 'dumbledore', 'vez', 'perguntou', 'sem', 'vai', 'então', 'ser', 'lhe', 'só', 'porta', 'lo', 'agora', 'snape', 'já', 'parecia', 'weasley', 'pelo', 'dois', 'fazer', 'potter', 'vocês', 'nada', 'voz', 'lockhart', 'depois', 'dizer', 'todos', 'vamos', 'nunca', 'havia', 'quem', 'alguma', 'aqui', 'seus', 'tão', 'sr', 'nem', 'pela', 'dele', 'nos', 'draco', 'fora', 'lado', 'quase', 'estavam', 'sabe']\n"
     ]
    }
   ],
   "source": [
    "print(list(model.wv.index_to_key[:100]))  # mostra as palavras mais frequentes"
   ]
  },
  {
   "cell_type": "code",
   "execution_count": 14,
   "id": "16f3c11f",
   "metadata": {},
   "outputs": [
    {
     "data": {
      "text/plain": [
       "[('flitwick', 0.8086791634559631),\n",
       " ('binns', 0.798825740814209),\n",
       " ('quirrell', 0.7714910507202148),\n",
       " ('snape', 0.6890683770179749),\n",
       " ('lockhart', 0.6211598515510559),\n",
       " ('fudge', 0.6054230332374573),\n",
       " ('dippet', 0.5813915133476257),\n",
       " ('hagrid', 0.5702838897705078),\n",
       " ('professor', 0.5701861381530762),\n",
       " ('ajudar', 0.5664731860160828)]"
      ]
     },
     "execution_count": 14,
     "metadata": {},
     "output_type": "execute_result"
    }
   ],
   "source": [
    "model.wv.most_similar(\"dumbledore\")"
   ]
  },
  {
   "cell_type": "code",
   "execution_count": 19,
   "id": "8d754a78",
   "metadata": {},
   "outputs": [
    {
     "data": {
      "text/plain": [
       "[('weasley', 0.5967212915420532),\n",
       " ('lufa', 0.5891095399856567),\n",
       " ('pontos', 0.5844677686691284),\n",
       " ('existência', 0.5583809614181519),\n",
       " ('corvinal', 0.5468419790267944),\n",
       " ('sonserina', 0.5461311340332031),\n",
       " ('mason', 0.5448892116546631),\n",
       " ('capitão', 0.5386407971382141),\n",
       " ('figg', 0.5315778255462646),\n",
       " ('troféus', 0.5285083055496216)]"
      ]
     },
     "execution_count": 19,
     "metadata": {},
     "output_type": "execute_result"
    }
   ],
   "source": [
    "model.wv.most_similar(positive=[\"grifinória\", \"malfoy\"], negative=[\"harry\"])"
   ]
  },
  {
   "cell_type": "code",
   "execution_count": 38,
   "id": "52a47a73",
   "metadata": {},
   "outputs": [
    {
     "data": {
      "text/plain": [
       "[('grifinória', 0.8385443687438965),\n",
       " ('taça', 0.7940594553947449),\n",
       " ('magia', 0.7734622359275818),\n",
       " ('escola', 0.7478455901145935),\n",
       " ('torre', 0.7449879050254822),\n",
       " ('reservada', 0.7406072616577148),\n",
       " ('corvinal', 0.7335519194602966),\n",
       " ('seção', 0.7306842803955078),\n",
       " ('existência', 0.7255863547325134),\n",
       " ('biblioteca', 0.7218431234359741)]"
      ]
     },
     "execution_count": 38,
     "metadata": {},
     "output_type": "execute_result"
    }
   ],
   "source": [
    "model.wv.most_similar(\"sonserina\")"
   ]
  },
  {
   "cell_type": "code",
   "execution_count": 17,
   "id": "ededec10",
   "metadata": {},
   "outputs": [
    {
     "data": {
      "text/plain": [
       "[('draco', 0.5606821775436401),\n",
       " ('justino', 0.534308910369873),\n",
       " ('mione', 0.5306095480918884),\n",
       " ('alguém', 0.5242722034454346),\n",
       " ('ele', 0.5147979259490967),\n",
       " ('fofo', 0.48690226674079895),\n",
       " ('colin', 0.48199591040611267),\n",
       " ('chegar', 0.47727641463279724),\n",
       " ('hagrid', 0.4683031141757965),\n",
       " ('entrar', 0.46648111939430237)]"
      ]
     },
     "execution_count": 17,
     "metadata": {},
     "output_type": "execute_result"
    }
   ],
   "source": [
    "model.wv.most_similar(positive=[\"vassoura\", \"harry\"], negative=[\"varinha\"])\n"
   ]
  },
  {
   "cell_type": "code",
   "execution_count": 18,
   "id": "db715045",
   "metadata": {},
   "outputs": [
    {
     "data": {
      "text/plain": [
       "[('floresta', 0.6055327653884888),\n",
       " ('boca', 0.5761124491691589),\n",
       " ('classe', 0.5683574080467224),\n",
       " ('grifinória', 0.5681403279304504),\n",
       " ('biblioteca', 0.5538199543952942),\n",
       " ('garota', 0.5427629351615906),\n",
       " ('ala', 0.5415136218070984),\n",
       " ('festa', 0.5411380529403687),\n",
       " ('capa', 0.5399580597877502),\n",
       " ('lista', 0.5356548428535461)]"
      ]
     },
     "execution_count": 18,
     "metadata": {},
     "output_type": "execute_result"
    }
   ],
   "source": [
    "model.wv.most_similar(positive=[\"dumbledore\", \"escola\"], negative=[\"voldemort\"])\n"
   ]
  },
  {
   "cell_type": "code",
   "execution_count": 20,
   "id": "bcb33f56",
   "metadata": {},
   "outputs": [
    {
     "data": {
      "text/plain": [
       "0.47156575"
      ]
     },
     "execution_count": 20,
     "metadata": {},
     "output_type": "execute_result"
    }
   ],
   "source": [
    "model.wv.similarity('harry', 'gina')"
   ]
  },
  {
   "cell_type": "code",
   "execution_count": 23,
   "id": "913627b3",
   "metadata": {},
   "outputs": [
    {
     "data": {
      "text/plain": [
       "0.6555467"
      ]
     },
     "execution_count": 23,
     "metadata": {},
     "output_type": "execute_result"
    }
   ],
   "source": [
    "model.wv.similarity(\"rony\", \"hermione\")"
   ]
  },
  {
   "cell_type": "code",
   "execution_count": 21,
   "id": "ecb386b2",
   "metadata": {},
   "outputs": [
    {
     "data": {
      "text/plain": [
       "0.5011865"
      ]
     },
     "execution_count": 21,
     "metadata": {},
     "output_type": "execute_result"
    }
   ],
   "source": [
    "model.wv.similarity('harry', 'hagrid')"
   ]
  },
  {
   "cell_type": "code",
   "execution_count": 24,
   "id": "11876177",
   "metadata": {},
   "outputs": [
    {
     "data": {
      "text/plain": [
       "0.36291382"
      ]
     },
     "execution_count": 24,
     "metadata": {},
     "output_type": "execute_result"
    }
   ],
   "source": [
    "model.wv.similarity('harry', 'dumbledore')"
   ]
  },
  {
   "cell_type": "code",
   "execution_count": 5,
   "id": "d637ab7a",
   "metadata": {},
   "outputs": [
    {
     "data": {
      "text/plain": [
       "0.44025874"
      ]
     },
     "execution_count": 5,
     "metadata": {},
     "output_type": "execute_result"
    }
   ],
   "source": [
    "model.wv.similarity('harry', 'dobby')"
   ]
  },
  {
   "cell_type": "code",
   "execution_count": 25,
   "id": "16b6f023",
   "metadata": {},
   "outputs": [
    {
     "data": {
      "text/plain": [
       "'voldemort'"
      ]
     },
     "execution_count": 25,
     "metadata": {},
     "output_type": "execute_result"
    }
   ],
   "source": [
    "model.wv.doesnt_match([\"harry\", \"ron\", \"hermione\", \"voldemort\"])"
   ]
  },
  {
   "cell_type": "code",
   "execution_count": 26,
   "id": "cade053f",
   "metadata": {},
   "outputs": [
    {
     "data": {
      "text/plain": [
       "'harry'"
      ]
     },
     "execution_count": 26,
     "metadata": {},
     "output_type": "execute_result"
    }
   ],
   "source": [
    "model.wv.doesnt_match([\"mcgonagall\", \"snape\", \"harry\", \"lupin\"])"
   ]
  },
  {
   "cell_type": "code",
   "execution_count": 27,
   "id": "3b7df61b",
   "metadata": {},
   "outputs": [
    {
     "data": {
      "text/plain": [
       "'livro'"
      ]
     },
     "execution_count": 27,
     "metadata": {},
     "output_type": "execute_result"
    }
   ],
   "source": [
    "model.wv.doesnt_match([\"varinha\", \"vassoura\", \"livro\"])"
   ]
  },
  {
   "cell_type": "code",
   "execution_count": 6,
   "id": "a0fb0720",
   "metadata": {},
   "outputs": [],
   "source": [
    "model.wv.save_word2vec_format('model_harry.txt', binary = False)\n"
   ]
  },
  {
   "cell_type": "code",
   "execution_count": 7,
   "id": "ecbfb2aa",
   "metadata": {},
   "outputs": [],
   "source": [
    "model.wv.save_word2vec_format('model_harry.txt', binary = False)\n",
    "# python -m gensim.scripts.word2vec2tensor\n",
    "# -i model_harry.txt -o model_harry"
   ]
  },
  {
   "cell_type": "code",
   "execution_count": null,
   "id": "4632cb8e",
   "metadata": {},
   "outputs": [],
   "source": [
    "#explorar e por imagens, no site \n",
    "#https://projector.tensorflow.org/"
   ]
  }
 ],
 "metadata": {
  "kernelspec": {
   "display_name": "Python 3",
   "language": "python",
   "name": "python3"
  },
  "language_info": {
   "codemirror_mode": {
    "name": "ipython",
    "version": 3
   },
   "file_extension": ".py",
   "mimetype": "text/x-python",
   "name": "python",
   "nbconvert_exporter": "python",
   "pygments_lexer": "ipython3",
   "version": "3.9.13"
  }
 },
 "nbformat": 4,
 "nbformat_minor": 5
}
